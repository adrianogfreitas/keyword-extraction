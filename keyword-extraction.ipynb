{
 "cells": [
  {
   "cell_type": "code",
   "execution_count": 1,
   "metadata": {
    "hideCode": false,
    "hidePrompt": false
   },
   "outputs": [
    {
     "name": "stdout",
     "output_type": "stream",
     "text": [
      "[nltk_data] Downloading package stopwords to\n",
      "[nltk_data]     /Users/adrianofreitas/nltk_data...\n",
      "[nltk_data]   Package stopwords is already up-to-date!\n",
      "[nltk_data] Downloading package wordnet to\n",
      "[nltk_data]     /Users/adrianofreitas/nltk_data...\n",
      "[nltk_data]   Package wordnet is already up-to-date!\n"
     ]
    }
   ],
   "source": [
    "import pandas as pd\n",
    "from bs4 import BeautifulSoup\n",
    "import requests\n",
    "import re\n",
    "import nltk\n",
    "from os import path\n",
    "from PIL import Image\n",
    "from wordcloud import WordCloud, STOPWORDS, ImageColorGenerator\n",
    "import matplotlib.pyplot as plt\n",
    "from sklearn.feature_extraction.text import CountVectorizer\n",
    "from sklearn.feature_extraction.text import TfidfTransformer\n",
    "from scipy.sparse import coo_matrix\n",
    "from TwitterSearch import TwitterUserOrder, TwitterSearch\n",
    "import json\n",
    "import random\n",
    "from scipy.sparse.coo import coo_matrix\n",
    "\n",
    "nltk.download('stopwords')\n",
    "nltk.download('wordnet')\n",
    "\n",
    "from nltk.corpus import stopwords\n",
    "from nltk.stem.porter import PorterStemmer\n",
    "from nltk.tokenize import RegexpTokenizer\n",
    "from nltk.stem.wordnet import WordNetLemmatizer\n",
    "\n",
    "% matplotlib inline"
   ]
  },
  {
   "cell_type": "markdown",
   "metadata": {},
   "source": [
    "Funções úteis"
   ]
  },
  {
   "cell_type": "code",
   "execution_count": 2,
   "metadata": {},
   "outputs": [],
   "source": [
    "def get_new_from_url(url: str) -> str:\n",
    "    \"\"\"Retorna o título e conteúdo de uma matéria do G1\"\"\"\n",
    "    text = requests.get(url).text\n",
    "    soup = BeautifulSoup(text, 'lxml')\n",
    "\n",
    "    headline = soup.find_all('h1', class_='content-head__title')[0].text\n",
    "    article = soup.find_all('article')[0].text\n",
    "    \n",
    "    return headline, article"
   ]
  },
  {
   "cell_type": "code",
   "execution_count": 3,
   "metadata": {},
   "outputs": [],
   "source": [
    "def nomalize(text: str) -> str:\n",
    "    \"\"\"Normaliza o texto de uma matéria aplicando os seguintes passos:\n",
    "    1- Converte tudo para minúculo\n",
    "    2- Remove tags, caracteres especiais e dígios\n",
    "    3- Aplica as técnicas Stemming e Lemmatisation\n",
    "    \"\"\"\n",
    "    stop_words = stopwords.words('portuguese')\n",
    "    new_text = text.lower()\n",
    "\n",
    "    # removendo tags\n",
    "    new_text=re.sub(\"&lt;/?.*?&gt;\",\" &lt;&gt; \",new_text)\n",
    "\n",
    "    # removendo caracteres especiais e dígitos\n",
    "    new_text=re.sub(\"(\\\\d|\\\\W)+\",\" \",new_text)\n",
    "\n",
    "    new_text = new_text.split()\n",
    "    \n",
    "    # Stemming\n",
    "    ps=PorterStemmer()\n",
    "    \n",
    "    # Lemmatisation\n",
    "    lem = WordNetLemmatizer()\n",
    "    \n",
    "    new_text = [lem.lemmatize(word) for word in new_text if not word in stop_words] \n",
    "    new_text = \" \".join(new_text)\n",
    "\n",
    "    return new_text"
   ]
  },
  {
   "cell_type": "code",
   "execution_count": 4,
   "metadata": {},
   "outputs": [],
   "source": [
    "def sort(coo_matrix: coo_matrix) -> list:\n",
    "    \"\"\"Ordena as keywords calculadas em order decrescente\"\"\"\n",
    "    tuples = zip(coo_matrix.col, coo_matrix.data)\n",
    "    return sorted(tuples, key=lambda x: (x[1], x[0]), reverse=True)"
   ]
  },
  {
   "cell_type": "code",
   "execution_count": 5,
   "metadata": {},
   "outputs": [],
   "source": [
    "def extract_top_n(feature_names: dict, sorted_items: list , topn: int = 10):\n",
    "    \"\"\"Captura as top N features e seu score\"\"\"\n",
    "    \n",
    "    sorted_items = sorted_items[:topn]\n",
    "    score_vals = []\n",
    "    feature_vals = []\n",
    "    \n",
    "    for i, score in sorted_items:\n",
    "        score_vals.append(round(score, 3))\n",
    "        feature_vals.append(feature_names[i])\n",
    " \n",
    "    results= {}\n",
    "    for i in range(len(feature_vals)):\n",
    "        results[feature_vals[i]]=score_vals[i]\n",
    "    \n",
    "    return results"
   ]
  },
  {
   "cell_type": "markdown",
   "metadata": {},
   "source": [
    "Criando um corpus baseado nas últimas notícias twitadas"
   ]
  },
  {
   "cell_type": "code",
   "execution_count": 6,
   "metadata": {},
   "outputs": [
    {
     "name": "stdout",
     "output_type": "stream",
     "text": [
      "tweet aproveitado: Roberto Silva doou R$ 8 mil para eleição de Valdecy da Saúde (PHS) em 2018, e agora foi nomeado 'adido' https://t.co/2dls6Hi73C #G1\n",
      "tweet aproveitado: \"Ele já fez isso outras vezes, as pessoas estão começando a denunciar. É um serial killer de filhotes felinos\" https://t.co/78CTcKZTBZ #G1\n",
      "tweet aproveitado: Polícia investiga suposta rede de proteção a João de Deus https://t.co/vJ5zEgN90p #G1\n",
      "tweet aproveitado: Segundo o Conar, \"numerosas denúncias de consumidores\" motivaram a abertura do processo https://t.co/k4INkAER7l #G1\n",
      "tweet aproveitado: Parlamento britânico aumenta seus próprios poderes e irá votar opções ao acordo de May sobre Brexit https://t.co/azpAgEulNv #G1\n",
      "tweet aproveitado: Avião que deveria ir para a Alemanha pousa na Escócia por engano https://t.co/pYEMv4lsnq #G1\n",
      "tweet aproveitado: Príncipe Charles passeia por Havana e inaugura estátua de Shakespeare https://t.co/0wyHXQRAdN #G1\n",
      "tweet aproveitado: Lava Jato denuncia operador financeiro ligado ao PSDB e outros cinco por lavagem de dinheiro https://t.co/4P2MFlrQ2B #G1\n",
      "tweet aproveitado: Michel Temer chega a São Paulo após decisão de desembargador https://t.co/bZgHuwrS7E #G1\n",
      "tweet aproveitado: Resgate espera alcançar mais vítimas de ciclone com reabertura de estradas em Moçambique https://t.co/rCcM2pTHQ1 #G1\n",
      "tweet aproveitado: 'Bohemian Rapsody' estreia na China com censura de cenas sobre homossexualidade e HIV de Freddie Mercury https://t.co/zwFI61h6Jn #G1\n",
      "tweet aproveitado: Deputado do PR deverá pagar  pelo custo das impressões, além de multa civil https://t.co/nGN4GM6A9e #G1\n",
      "tweet aproveitado: Roberto Silva doou R$ 8 mil para eleição de Valdecy da Saúde (PHS) em 2018, e agora foi nomeado 'adido' https://t.co/2dls6HzHVa #G1\n",
      "tweet aproveitado: República Democrática do Congo tem segundo pior surto de Ebola da história https://t.co/QW68PO8lIu #G1 https://t.co/klPNGQ4CxH\n",
      "tweet aproveitado: \"Ele é possessivo, essa é a palavra certa. Ele sempre deixou isso bem claro pra mim\" https://t.co/5KAURydt0p #G1\n",
      "tweet aproveitado: #Enem2019: pedidos de isenção na taxa de inscrição começam em 1º de abril https://t.co/PISjnMEBug #G1\n",
      "tweet aproveitado: Beto Richa e outros cinco viram réus em processo que apura desvio de dinheiro em obras de escolas https://t.co/thPaB2JWC6 #G1\n",
      "tweet aproveitado: Técnico de futebol é preso em SC suspeito de estupro de vulnerável https://t.co/EMPqpMeS4a #G1\n",
      "tweet aproveitado: Ex-ministro Moreira Franco também deixa a prisão no RJ https://t.co/LRYs2rR4DX #G1\n",
      "tweet aproveitado: Bolsonaro determinou que Defesa faça as 'comemorações devidas' do golpe de 64, diz porta-voz https://t.co/hDdV2b7twX #G1\n",
      "tweet aproveitado: Número de mortes também aumentou https://t.co/Ehl6NeJgOa #G1\n",
      "tweet aproveitado: Avião que deveria ir para a Alemanha pousa na Escócia por engano https://t.co/pYEMv4D3M0 #G1\n",
      "tweet aproveitado: Michel Temer é solto da sede da PF no Rio após decisão de desembargador https://t.co/dA5aZe8qan #G1\n",
      "tweet aproveitado: Casos de agressões a professores da rede estadual têm alta de 73% em SP, aponta Secretaria da Educação https://t.co/AkQDtG1apC #G1\n",
      "tweet não aproveitado: Especialista tira dúvidas AO VIVO sobre declaração do Imposto de Renda; acompanhe a partir das 18h30 ==&gt; https://t.co/QDPMCvnjLn #G1\n",
      "tweet aproveitado: Hamas anuncia cessar-fogo com Israel após escalada nas últimas horas https://t.co/Ql0GQ4IdXk #G1\n",
      "tweet aproveitado: Brasil caminha para década com crescimento mais fraco em 120 anos https://t.co/MVpNuFHp65 #G1\n",
      "tweet aproveitado: SAMY DANA: As falsas promessas de ganhos das propagandas na internet https://t.co/hpWq0VPVGv #G1\n",
      "tweet aproveitado: MPF diz que irá recorrer da decisão que determinou soltura de Temer, Moreira Franco, Coronel Lima e mais 5 https://t.co/2BLxMSC1pO #G1\n",
      "tweet aproveitado: Sem concorrência, participantes da licitação de ônibus de SP pedem valor máximo de remuneração previsto https://t.co/ewyImJw9qk #G1\n",
      "tweet aproveitado: Dólar fecha em queda e volta ao patamar de R$ 3,85 com cena política no foco https://t.co/aug3R1xXND #G1 https://t.co/2yuTgjR9Zb\n",
      "tweet aproveitado: RT @g1carros: Depois de 23 anos, Fiat terá que indenizar donos de Tipo que pegaram fogo https://t.co/tbfp16n2YZ\n",
      "tweet aproveitado: Lula pede ao STJ para anular condenação no caso do triplex e mandar ação para Justiça Eleitoral https://t.co/dwPOoGulvc #G1\n",
      "tweet aproveitado: Leia a ÍNTEGRA da decisão que mandou soltar Temer, Moreira Franco, Coronel Lima e mais 5 https://t.co/KcF0NjRqBo #G1 https://t.co/jmzFQA6fsO\n",
      "tweet aproveitado: Brasil cria 173 mil empregos formais, no melhor resultado para fevereiro em cinco anos https://t.co/0tFLJW6XoQ #G1\n",
      "tweet aproveitado: Brasileiros já pagaram R$ 600 bilhões em impostos no ano https://t.co/uCgDL2W3kA #G1\n",
      "tweet aproveitado: O risco associado a essas pesquisas com o vírus da gripe aviária levou à suspensão das mesmas há quatro anos https://t.co/S5YUB3UFIv #G1\n",
      "tweet aproveitado: Paulo Guedes vê 'problema de comunicação' na articulação para reforma da Previdência https://t.co/wURedmtHrZ #G1\n",
      "tweet aproveitado: Tragédia completa dois meses nesta segunda-feira (25) https://t.co/xPf3MYS3aQ #G1\n",
      "tweet aproveitado: Estados da Venezuela registram novo apagão https://t.co/bnrsMKM3Vq #G1\n",
      "tweet aproveitado: Segundo a operação, o episódio ocorreu depois de uma operação no sábado https://t.co/Y4dcOOShzW #G1\n",
      "tweet aproveitado: URGENTE: TRF2 determina soltura do ex-presidente Michel Temer https://t.co/9OtRp4p6c2 #G1\n",
      "tweet aproveitado: Segundo o Conar, \"numerosas denúncias de consumidores\" motivaram a abertura do processo https://t.co/ONHbBW2Z9m #G1\n",
      "tweet aproveitado: Confira o ranking completo da semana https://t.co/0jvk7gyHvY #G1\n",
      "tweet aproveitado: Sua velocidade máxima é de 25 km/h https://t.co/etj1MCXJJf #G1 #AutoEsporte\n",
      "tweet aproveitado: O animal foi devolvido a uma área de mata na cidade https://t.co/qO3lfTL0mT #G1\n",
      "tweet aproveitado: Indefinições sobre destino do programa geram apreensão no setor de construção https://t.co/I9wMQohbaf #G1\n",
      "tweet aproveitado: \"Ele já fez isso outras vezes, as pessoas estão começando a denunciar. É um serial killer de filhotes felinos\" https://t.co/AGpQ3UjBSk #G1\n",
      "tweet aproveitado: O fogo destruiu um sofá e danificou parcialmente outros móveis da casa https://t.co/I7IHOHAhEK #G1\n",
      "tweet aproveitado: Número de mortes também aumentou https://t.co/Ehl6Nf0ScK #G1\n",
      "tweet aproveitado: Grupo de neonazistas agrediu três jovens judeus, identificados pelo quipá, há 14 anos https://t.co/vqpV2LgAOl #G1\n",
      "tweet aproveitado: Edital publicado nesta segunda-feira informa que não serão todos os alunos que responderão a essas questões https://t.co/aQU4Kvuxyo #G1\n",
      "tweet aproveitado: Segundo o comandante do 59ª BIMtz, conduta do militar será investigada https://t.co/PgE66H54oq #G1\n",
      "tweet aproveitado: #Enem2019: pedidos de isenção na taxa de inscrição começam em 1º de abril https://t.co/HMDxWRqdRu #G1 https://t.co/byN5VcZtUu\n",
      "tweet aproveitado: Dados coletados pela empresa foram usados para dirigir propaganda política segmentada nos EUA https://t.co/st55LHR1rb #G1\n",
      "tweet aproveitado: Tragédia completa dois meses nesta segunda-feira (25) https://t.co/xPf3MYArMg #G1\n",
      "tweet aproveitado: A informação foi divulgada pela imprensa italiana nesta segunda-feira (25) https://t.co/4nUN3u0Jj1 #G1\n",
      "tweet aproveitado: Previsão de alta do PIB recuou de 2,01% para 2% neste ano https://t.co/3pM8OYTpwf #G1\n",
      "tweet aproveitado: Indefinições sobre destino do programa geram apreensão no setor de construção https://t.co/I9wMQnZAiH #G1\n",
      "tweet aproveitado: Segundo o Conar, \"numerosas denúncias de consumidores\" motivaram a abertura do processo https://t.co/ONHbBVLohO #G1\n",
      "tweet aproveitado: Um homem morreu e mais de 200 pessoas ficaram desabrigadas https://t.co/SuNZyPijjm #G1\n",
      "tweet aproveitado: Políticos brigaram no sábado (23), em Londrina, no norte do Paraná https://t.co/LIgURz8E2L #G1\n",
      "tweet aproveitado: \"Ele é possessivo, essa é a palavra certa. Ele sempre deixou isso bem claro pra mim\" https://t.co/zxmUNcnY5P #G1\n",
      "tweet aproveitado: Taxa é menor que os 1,6% da chamada \"década perdida\", nos anos 1980 https://t.co/uoP4Bz2cdZ #G1\n",
      "tweet aproveitado: Na sexta, moeda dos EUA fechou em alta de 2,64%, a R$ 3,9011, na maior cotação desde 26 de dezembro https://t.co/poOs0eqiU2 #G1\n"
     ]
    },
    {
     "name": "stdout",
     "output_type": "stream",
     "text": [
      "tweet aproveitado: As aulas estão programadas para começar nesta terça-feira (26) https://t.co/niblKyZXky #G1\n",
      "tweet aproveitado: #Enem2019: pedidos de isenção na taxa de inscrição começam em 1º de abril https://t.co/HMDxWR8CZW #G1 https://t.co/1T4YGyz3C0\n",
      "tweet aproveitado: A investigação deve se concentrar no que poderia ou deveria ter sido feito para prevenir o ataque https://t.co/dTGomk1VCq #G1\n",
      "tweet aproveitado: Forças Armadas israelenses culpam o Hamas pelo disparo https://t.co/6Jra66iebD #G1\n",
      "tweet aproveitado: Polícia investiga as circunstâncias em que o garoto foi ferido https://t.co/UXw93zBLww #G1\n",
      "tweet aproveitado: Ele doa 80% de seu salário para apoiar os estudos dos seus alunos https://t.co/jPWDWZToB4 #G1\n",
      "tweet aproveitado: Veja lista de 4 recomendações para não cair em ciladas na hora de escolher investimentos https://t.co/tu8kNa10q2 #G1\n",
      "tweet aproveitado: RT @showdavida: Balão de homenagem a vítimas de tragédia em escola vai parar em Suzano. Foi uma viagem de mais de 17 km... Homem que o enco…\n",
      "tweet aproveitado: Foi tanta coisa que a gente fez até retrospectiva https://t.co/JEh7OslPCw #G1\n",
      "tweet aproveitado: É o segundo caso de suicídio entre os sobreviventes do massacre nos últimos dias https://t.co/2Wv7akyMLi #G1\n",
      "tweet aproveitado: Existe o perigo de um retorno do fascismo no mundo? https://t.co/n0D8tkgOtt #G1\n",
      "tweet aproveitado: A PF cumpriu, ao todo, 10 mandados de prisão na quinta-feira. Dessas, 8 eram preventivas e 2 temporárias https://t.co/cPnOFzg0sI #G1\n",
      "tweet aproveitado: Ele doa 80% de seu salário para apoiar os estudos dos seus alunos https://t.co/jPWDWZBNJw #G1\n",
      "tweet aproveitado: Medida será estendida para os 15 estados restantes. Entenda https://t.co/2eCD3bEbmF #G1\n",
      "tweet aproveitado: Homem foi autuado por lesão corporal e liberado https://t.co/SnCnjKEo9v #G1\n",
      "tweet aproveitado: Só não pode perder o prazo 😉https://t.co/jMgqdCnrXp #G1 #IR2019\n",
      "tweet aproveitado: Homem vai responder por tentativa de feminicídio https://t.co/jtsLsqD103 #G1\n",
      "tweet aproveitado: Em Moçambique, o país mais impactado pelo ciclone, o nível da água começou a descer  https://t.co/nZ7ftaQsEO #G1\n",
      "tweet aproveitado: A tempestade tropical é uma categoria antes do ciclone tropical, comumente chamado de furacão https://t.co/iVEIzNo5NM #G1\n",
      "tweet aproveitado: Candidatos pedem a anulação do certame https://t.co/ya6XTj8T2d #G1\n",
      "tweet aproveitado: Projeto usa impressão 3D como recurso pedagógico, permitindo a interação entre crianças cegas e visuais https://t.co/kd9n9D6PwM #G1\n",
      "tweet aproveitado: Existe o perigo de um retorno do fascismo no mundo? https://t.co/n0D8tkypl1 #G1\n",
      "tweet aproveitado: Maior comprador fica no Oriente Médio, em um mercado altamente influenciado pela geopolítica global. https://t.co/jNTJkoyzum #G1\n",
      "tweet aproveitado: A assessoria de imprensa da Polícia Civil informou que não existe qualquer sinal aparente de violência https://t.co/52jTFTFsSa #G1\n",
      "tweet aproveitado: \"Isso não é nem profissionalismo, é um gesto de humanidade”, disse a formanda. https://t.co/m68ZJQoWGs #G1\n",
      "tweet aproveitado: Mais de 1.400 pessoas estavam a bordo. \"Foi muito perto de um desastre\", disse o chefe da polícia https://t.co/lnF0kC8r0E #G1\n",
      "tweet aproveitado: Deputado Major Vitor Hugo disse que pauta foi articulação política para aprovação da reforma da Previdência https://t.co/OrUW9neX6P #G1\n",
      "tweet aproveitado: Uma hora e meia depois do início da prova, parte dos candidatos não havia recebido as questões https://t.co/L2fIINUvhg #G1\n",
      "tweet aproveitado: Segundo jornal britânico, 11 ministros estão planejando tirar Theresa May do poder. https://t.co/6FkHbKm4Yq #G1\n",
      "tweet aproveitado: Veja lista de 4 recomendações para não cair em ciladas na hora de escolher investimentos https://t.co/la2rjA6kOw #G1\n",
      "tweet aproveitado: Mudanças no estilo de vida e na estrutura familiar estão afetando a saúde mental dos chineses https://t.co/tospstrD3i #G1\n",
      "tweet aproveitado: Foi tanta coisa que a gente fez até retrospectiva https://t.co/oea65pJYbk #G1\n",
      "tweet aproveitado: Medida será estendida para os 15 estados restantes. Entenda https://t.co/bXzERvFVgM #G1\n",
      "tweet aproveitado: Só não pode perder o prazo 😉https://t.co/XCQxe5Lfar #G1 #IR2019\n",
      "tweet aproveitado: RT @pegntv: Empresas estão saindo do conceito de economia linear para o conceito de economia circular, onde o jogar fora vira um retorno do…\n",
      "tweet aproveitado: 'Nobel da educação' tem brasileira entre os finalistas https://t.co/v5S9S06Vvo #G1\n",
      "tweet aproveitado: A unidade ficará interditada até domingo (24), devido ao produto usado para eliminar os aracnídeos https://t.co/rndnSYERTj #G1\n"
     ]
    }
   ],
   "source": [
    "config = json.load(open('config.json'))\n",
    "\n",
    "tuo = TwitterUserOrder('g1')\n",
    "ts = TwitterSearch(\n",
    "    consumer_key = config['credentials']['consumer-key'],\n",
    "    consumer_secret = config['credentials']['consumer-secret'],\n",
    "    access_token = config['credentials']['access-token'],\n",
    "    access_token_secret = config['credentials']['access-token-secret']\n",
    ")\n",
    "\n",
    "corpus = []\n",
    "news = []\n",
    "total_news = 0\n",
    "for tweet in ts.search_tweets_iterable(tuo):\n",
    "    if not tweet['truncated']:\n",
    "        try:\n",
    "            for url in tweet['entities']['urls']:\n",
    "                headline, text = get_new_from_url(url['url'])\n",
    "                corpus.append(nomalize(text))\n",
    "                news.append({\n",
    "                    'url': url['url'],\n",
    "                    'headline': headline,\n",
    "                    'text': text\n",
    "                })\n",
    "\n",
    "            total_news += 1\n",
    "            print('tweet aproveitado: {}'.format( tweet['text'] ) )\n",
    "        except:\n",
    "            print('tweet não aproveitado: {}'.format( tweet['text'] ) )\n",
    "    \n",
    "    if total_news > config['n-news']:\n",
    "        break"
   ]
  },
  {
   "cell_type": "markdown",
   "metadata": {},
   "source": [
    "Criando um vocabulário com todas as palavras conhecidas"
   ]
  },
  {
   "cell_type": "code",
   "execution_count": 7,
   "metadata": {},
   "outputs": [
    {
     "data": {
      "text/plain": [
       "['pm',\n",
       " 'cedeu',\n",
       " 'policiais',\n",
       " 'outros',\n",
       " 'órgãos',\n",
       " 'doi',\n",
       " 'agosto',\n",
       " 'subtenente',\n",
       " 'roberto',\n",
       " 'araújo']"
      ]
     },
     "execution_count": 7,
     "metadata": {},
     "output_type": "execute_result"
    }
   ],
   "source": [
    "stop_words = stopwords.words('portuguese')\n",
    "cv = CountVectorizer(stop_words=stop_words, max_features=10000, ngram_range=(1,3))\n",
    "X = cv.fit_transform(corpus)\n",
    "list(cv.vocabulary_.keys())[:10]"
   ]
  },
  {
   "cell_type": "markdown",
   "metadata": {},
   "source": [
    "Selecionando uma notícia aleatória para ser analisada"
   ]
  },
  {
   "cell_type": "code",
   "execution_count": 8,
   "metadata": {},
   "outputs": [
    {
     "name": "stdout",
     "output_type": "stream",
     "text": [
      "Hamas anuncia cessar-fogo com Israel após escalada de confrontos nas últimas horas\n"
     ]
    }
   ],
   "source": [
    "selected_new = random.randint(0, len(corpus)-1)\n",
    "print(news[selected_new]['headline'])"
   ]
  },
  {
   "cell_type": "markdown",
   "metadata": {},
   "source": [
    "Utilizando TF-IDF para identificar as palavras-chave do artigo selecionado"
   ]
  },
  {
   "cell_type": "code",
   "execution_count": 9,
   "metadata": {},
   "outputs": [],
   "source": [
    "tfidf_transformer = TfidfTransformer(smooth_idf=True,use_idf=True)\n",
    "tfidf_transformer.fit(X)\n",
    "\n",
    "feature_names = cv.get_feature_names()\n",
    "\n",
    "tf_idf_vector = tfidf_transformer.transform(cv.transform([corpus[selected_new]]))"
   ]
  },
  {
   "cell_type": "markdown",
   "metadata": {},
   "source": [
    "Ranqueando as palavras e exibindo os resultados"
   ]
  },
  {
   "cell_type": "code",
   "execution_count": 10,
   "metadata": {},
   "outputs": [
    {
     "name": "stdout",
     "output_type": "stream",
     "text": [
      "Matéria: Hamas anuncia cessar-fogo com Israel após escalada de confrontos nas últimas horas [https://t.co/Ql0GQ4IdXk]\n",
      "                   Chamas são vistas durante ataque de Israel à Gaza, na segunda-feira (25) — Foto: Reuters/Mohammed Ajour           A organização palestina Hamas anunciou nesta segunda-feira (25) que alcançou um cessar-fogo com Israel com mediação do Egito, após horas de intenso confronto, a apenas duas semanas das eleições israelenses.      \"Os esforços egípcios tiveram sucesso\", alcançando \"um cessar-fogo entre a ocupação e as facções da resistência\", disse o porta-voz da organização, Fawzi Barhum.     Segundo a France Presse, Israel ainda não confirmou a informação.     O confronto se intensificou nas últimas horas após um foguete lançado da Faixa de Gaza ter atingido esta manhã uma casa na comunidade de Mishmeret, na região central de Israel, deixando sete feridos, entre eles uma mulher de 60 anos, uma de 30 anos, uma menina de 12 anos e duas crianças, de 3 e 1 ano e meio, de acordo com o serviço de emergência Estrela Vermelha de David (MDA).                    Policial israelense inspeciona casa atingida por foguete em Mishmeret, na região central de Israel, nesta segunda-feira (25) — Foto: Ariel Schalit/AP      O Exército de Israel afirma que um foguete de fabricação local foi lançado da Faixa de Gaza e percorreu quase 120 km. As Forças Armadas israelenses também culparam o Hamas.     O Hamas foi taxativo ao negar nesta segunda o disparo do foguete e disse que o movimento islâmico palestino não tem interesse em um confronto com o Estado judeu.     \"Ninguém dentro dos movimentos de resistência, incluindo o Hamas, está interessado em disparar foguetes de Gaza contra o inimigo\", disse à AFP um alto funcionário do movimento que controla a Faixa de Gaza, e que pediu anonimato.        Depois do ataque, o premiê israelense, Benjamin Netanyahu, anunciou que iria encurtar sua viagem aos Estados Unidos, durante a qual se encontrará com o presidente do país, Donald Trump, para retornar a Israel.    Resposta israelense    Algumas horas depois, as Forças Armadas de Israel disseram ter começado a atacar alvos do Hamas na Faixa de Gaza e testemunhas da agência Reuters ouviram explosões em Gaza.     Um dos alvos atingidos foi uma posição marítima do Hamas a oeste da cidade de Gaza, e uma outra foi um grande campo de treinamento do grupo no norte de Gaza, disseram autoridades de segurança palestinas e veículos de comunicação do Hamas.     É provável que ambas as áreas tenham sido esvaziadas, já que o Hamas soube com horas de antecedência que os ataques israelenses estavam a caminho.     Testemunhas disseram que três mísseis atingiram o alvo no norte de Gaza.                    Foguetes são disparados da Faixa de Gaza em direção a Israel, na segunda-feira (25) — Foto: Reuters/Amir Cohen     Novos foguetes    Segundo a agência Efe, antes do acordo de cessar-fogo ser alcançado, milícias palestinas lançaram, a partir da Faixa de Gaza, dezenas de foguetes na direção de Israel, como resposta aos vários bombardeios contra alvos do Hamas.     Os ataques foram confirmados pelo Centro de Operações Conjuntas das Facções Palestinas, que reúne as seis principais milícias, entre elas as Brigadas al Qasam, o braço armado do Hamas, e as Brigadas al Quds, ligadas à Jihad Islâmica.         As sirenes dos sistemas antiaéreos israelense dispararam por volta das 19 horas (16 horas em Brasília) em pelo menos sete áreas do país. O Exército confirmou a identificação de pelo menos um projétil lançado pelos palestinos em uma das regiões.     \n",
      "\n",
      "Keywords:\n",
      "gaza 0.428\n",
      "hamas 0.357\n",
      "israel 0.334\n",
      "faixa gaza 0.214\n",
      "faixa 0.19\n",
      "foguetes 0.155\n",
      "israelense 0.143\n",
      "foguete 0.143\n",
      "horas 0.141\n",
      "palestinas 0.117\n"
     ]
    }
   ],
   "source": [
    "sorted_items = sort(tf_idf_vector.tocoo())\n",
    "\n",
    "keywords = extract_top_n(feature_names, sorted_items, config['n-keywords'])\n",
    "\n",
    "print(\"Matéria: {} [{}]\\n{}\".format(news[selected_new]['headline'], news[selected_new]['url'], news[selected_new]['text']))\n",
    "print(\"\\nKeywords:\")\n",
    "for k in keywords:\n",
    "    print(k,keywords[k])"
   ]
  },
  {
   "cell_type": "code",
   "execution_count": null,
   "metadata": {},
   "outputs": [],
   "source": []
  }
 ],
 "metadata": {
  "hide_code_all_hidden": false,
  "kernelspec": {
   "display_name": "Python 3",
   "language": "python",
   "name": "python3"
  },
  "language_info": {
   "codemirror_mode": {
    "name": "ipython",
    "version": 3
   },
   "file_extension": ".py",
   "mimetype": "text/x-python",
   "name": "python",
   "nbconvert_exporter": "python",
   "pygments_lexer": "ipython3",
   "version": "3.6.4"
  }
 },
 "nbformat": 4,
 "nbformat_minor": 2
}
